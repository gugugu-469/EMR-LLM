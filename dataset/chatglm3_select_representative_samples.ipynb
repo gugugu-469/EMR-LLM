{
 "cells": [
  {
   "cell_type": "code",
   "execution_count": 1,
   "metadata": {},
   "outputs": [
    {
     "name": "stderr",
     "output_type": "stream",
     "text": [
      "/home/wangjiacheng/miniconda3/envs/llama_factory/lib/python3.10/site-packages/tqdm/auto.py:22: TqdmWarning: IProgress not found. Please update jupyter and ipywidgets. See https://ipywidgets.readthedocs.io/en/stable/user_install.html\n",
      "  from .autonotebook import tqdm as notebook_tqdm\n"
     ]
    }
   ],
   "source": [
    "import os\n",
    "os.environ['CUDA_VISIBLE_DEVICES'] = '1'\n",
    "from transformers import AutoTokenizer,AutoModelForCausalLM\n",
    "import torch"
   ]
  },
  {
   "cell_type": "code",
   "execution_count": 3,
   "metadata": {},
   "outputs": [],
   "source": [
    "def get_hidden(model,tokenizer,text):\n",
    "    '''\n",
    "    reurn the last hidden state of the last token\n",
    "    '''\n",
    "    with torch.no_grad():\n",
    "        model_res = model(**tokenizer(text,return_tensors='pt').to('cuda'),output_hidden_states=True)\n",
    "        hidden_states = model_res.hidden_states\n",
    "        last_hidden_state = hidden_states[-1].cpu()\n",
    "        res = last_hidden_state[-1][-1]\n",
    "        res = res\n",
    "        return res"
   ]
  },
  {
   "cell_type": "code",
   "execution_count": 4,
   "metadata": {},
   "outputs": [],
   "source": [
    "def calculate_class_center(embeddings):\n",
    "    \"\"\"\n",
    "    计算类别中心 μ_y\n",
    "    参数:\n",
    "    - embeddings: tensor, 每个实例的4096维嵌入向量，形状为 (n, 4096)\n",
    "    \n",
    "    返回:\n",
    "    - mu_y: tensor, 类别中心向量，形状为 (4096,)\n",
    "    \"\"\"\n",
    "    mu_y = embeddings.mean(dim=0)\n",
    "    return mu_y\n"
   ]
  },
  {
   "cell_type": "code",
   "execution_count": 5,
   "metadata": {},
   "outputs": [],
   "source": [
    "import torch\n",
    "\n",
    "def select_representative_samples(model, tokenizer, texts, num_exemplars):\n",
    "    \"\"\"\n",
    "    选择代表性样本\n",
    "    参数:\n",
    "    - model: 预训练模型\n",
    "    - tokenizer: 模型对应的tokenizer\n",
    "    - texts: list of str, 文本列表\n",
    "    - num_exemplars: int, 要选择的样本数量\n",
    "    \n",
    "    返回:\n",
    "    - selected_texts: list of str, 选择出的代表性样本\n",
    "    \"\"\"\n",
    "    # 获取所有文本的嵌入\n",
    "    embeddings = torch.stack([get_hidden(model, tokenizer, text) for text in texts])\n",
    "\n",
    "    # 计算类别中心\n",
    "    mu_y = calculate_class_center(embeddings)\n",
    "\n",
    "    selected_indices = []\n",
    "    remaining_indices = list(range(len(embeddings)))\n",
    "\n",
    "    for k in range(num_exemplars):\n",
    "        if k == 0:\n",
    "            # 第一个样例选择与类别中心最近的样本\n",
    "            distances = torch.norm(embeddings - mu_y, dim=1)\n",
    "        else:\n",
    "            # 计算已选样本的平均向量\n",
    "            already_selected = embeddings[selected_indices]\n",
    "            mean_selected = already_selected.mean(dim=0)\n",
    "            \n",
    "            # 计算当前样本与更新后的类别中心的距离\n",
    "            distances = torch.norm(embeddings - (mu_y - (mean_selected - embeddings)), dim=1)\n",
    "        \n",
    "        # 找到距离最小的样本\n",
    "        selected_idx = remaining_indices[torch.argmin(distances)]\n",
    "        selected_indices.append(selected_idx)\n",
    "        remaining_indices.remove(selected_idx)\n",
    "\n",
    "    # 返回选出的代表性样本的文本\n",
    "    selected_texts = [texts[idx] for idx in selected_indices]\n",
    "    return selected_texts\n"
   ]
  },
  {
   "cell_type": "code",
   "execution_count": 6,
   "metadata": {},
   "outputs": [
    {
     "name": "stderr",
     "output_type": "stream",
     "text": [
      "Loading checkpoint shards: 100%|██████████| 7/7 [00:04<00:00,  1.52it/s]\n"
     ]
    },
    {
     "data": {
      "text/plain": [
       "ChatGLMForConditionalGeneration(\n",
       "  (transformer): ChatGLMModel(\n",
       "    (embedding): Embedding(\n",
       "      (word_embeddings): Embedding(65024, 4096)\n",
       "    )\n",
       "    (rotary_pos_emb): RotaryEmbedding()\n",
       "    (encoder): GLMTransformer(\n",
       "      (layers): ModuleList(\n",
       "        (0-27): 28 x GLMBlock(\n",
       "          (input_layernorm): RMSNorm()\n",
       "          (self_attention): SelfAttention(\n",
       "            (query_key_value): Linear(in_features=4096, out_features=4608, bias=True)\n",
       "            (core_attention): CoreAttention(\n",
       "              (attention_dropout): Dropout(p=0.0, inplace=False)\n",
       "            )\n",
       "            (dense): Linear(in_features=4096, out_features=4096, bias=False)\n",
       "          )\n",
       "          (post_attention_layernorm): RMSNorm()\n",
       "          (mlp): MLP(\n",
       "            (dense_h_to_4h): Linear(in_features=4096, out_features=27392, bias=False)\n",
       "            (dense_4h_to_h): Linear(in_features=13696, out_features=4096, bias=False)\n",
       "          )\n",
       "        )\n",
       "      )\n",
       "      (final_layernorm): RMSNorm()\n",
       "    )\n",
       "    (output_layer): Linear(in_features=4096, out_features=65024, bias=False)\n",
       "  )\n",
       ")"
      ]
     },
     "execution_count": 6,
     "metadata": {},
     "output_type": "execute_result"
    }
   ],
   "source": [
    "model_path = 'path_of_chatglm3_6b'\n",
    "model = AutoModelForCausalLM.from_pretrained(model_path,trust_remote_code=True,device_map='auto')\n",
    "tokenizer = AutoTokenizer.from_pretrained(model_path,trust_remote_code=True)\n",
    "model.eval()"
   ]
  },
  {
   "cell_type": "code",
   "execution_count": 7,
   "metadata": {},
   "outputs": [
    {
     "name": "stdout",
     "output_type": "stream",
     "text": [
      "Selected Representative Samples: ['医生正在考虑为患者调整治疗方案。', '病人感觉胸痛，医生怀疑是心脏问题。', '病人报告有轻微头痛和疲劳。']\n"
     ]
    }
   ],
   "source": [
    "texts = [\n",
    "    'text1',\n",
    "    'text2',\n",
    "    'text3',\n",
    "    '......'\n",
    "]\n",
    "\n",
    "# 我们想选择 3 个代表性样本\n",
    "num_exemplars = 3\n",
    "\n",
    "# 调用选择函数\n",
    "selected_texts = select_representative_samples(model, tokenizer, texts, num_exemplars)\n",
    "print(\"Selected Representative Samples:\", selected_texts)"
   ]
  }
 ],
 "metadata": {
  "kernelspec": {
   "display_name": "llama_factory",
   "language": "python",
   "name": "python3"
  },
  "language_info": {
   "codemirror_mode": {
    "name": "ipython",
    "version": 3
   },
   "file_extension": ".py",
   "mimetype": "text/x-python",
   "name": "python",
   "nbconvert_exporter": "python",
   "pygments_lexer": "ipython3",
   "version": "3.10.13"
  },
  "orig_nbformat": 4
 },
 "nbformat": 4,
 "nbformat_minor": 2
}
